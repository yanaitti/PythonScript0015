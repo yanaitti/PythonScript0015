{
 "cells": [
  {
   "cell_type": "code",
   "execution_count": 42,
   "metadata": {},
   "outputs": [
    {
     "name": "stdout",
     "output_type": "stream",
     "text": [
      "Requirement already satisfied: lightgbm in d:\\anaconda3\\lib\\site-packages (2.3.1)\n",
      "Requirement already satisfied: numpy in d:\\anaconda3\\lib\\site-packages (from lightgbm) (1.18.1)\n",
      "Requirement already satisfied: scikit-learn in d:\\anaconda3\\lib\\site-packages (from lightgbm) (0.22.1)\n",
      "Requirement already satisfied: scipy in d:\\anaconda3\\lib\\site-packages (from lightgbm) (1.4.1)\n",
      "Requirement already satisfied: joblib>=0.11 in d:\\anaconda3\\lib\\site-packages (from scikit-learn->lightgbm) (0.14.1)\n"
     ]
    },
    {
     "name": "stderr",
     "output_type": "stream",
     "text": [
      "D:\\anaconda3\\lib\\site-packages\\pip\\_internal\\commands\\install.py:244: UserWarning: Disabling all use of wheels due to the use of --build-option / --global-option / --install-option.\n",
      "  cmdoptions.check_install_build_global(options)\n"
     ]
    }
   ],
   "source": [
    "!pip install lightgbm --install-option=--gpu"
   ]
  },
  {
   "cell_type": "markdown",
   "metadata": {},
   "source": [
    "# LightGBM"
   ]
  },
  {
   "cell_type": "markdown",
   "metadata": {},
   "source": [
    "## データセットの確認"
   ]
  },
  {
   "cell_type": "code",
   "execution_count": 2,
   "metadata": {},
   "outputs": [],
   "source": [
    "import pandas as pd\n",
    "import numpy as np\n",
    "from datetime import datetime\n",
    "\n",
    "import matplotlib.pyplot as plt\n",
    "%matplotlib inline\n",
    "\n",
    "# LightGBM\n",
    "import lightgbm as lgb\n",
    "\n",
    "# sciket-learn(評価算出)\n",
    "from sklearn.metrics import confusion_matrix\n",
    "from sklearn.metrics import accuracy_score"
   ]
  },
  {
   "cell_type": "code",
   "execution_count": 3,
   "metadata": {},
   "outputs": [],
   "source": [
    "classes = pd.read_csv('kmnist_classmap.csv')"
   ]
  },
  {
   "cell_type": "code",
   "execution_count": 4,
   "metadata": {},
   "outputs": [
    {
     "name": "stdout",
     "output_type": "stream",
     "text": [
      "(10, 3)\n"
     ]
    }
   ],
   "source": [
    "print(classes.shape)"
   ]
  },
  {
   "cell_type": "code",
   "execution_count": 5,
   "metadata": {},
   "outputs": [
    {
     "data": {
      "text/html": [
       "<div>\n",
       "<style scoped>\n",
       "    .dataframe tbody tr th:only-of-type {\n",
       "        vertical-align: middle;\n",
       "    }\n",
       "\n",
       "    .dataframe tbody tr th {\n",
       "        vertical-align: top;\n",
       "    }\n",
       "\n",
       "    .dataframe thead th {\n",
       "        text-align: right;\n",
       "    }\n",
       "</style>\n",
       "<table border=\"1\" class=\"dataframe\">\n",
       "  <thead>\n",
       "    <tr style=\"text-align: right;\">\n",
       "      <th></th>\n",
       "      <th>index</th>\n",
       "      <th>codepoint</th>\n",
       "      <th>char</th>\n",
       "    </tr>\n",
       "  </thead>\n",
       "  <tbody>\n",
       "    <tr>\n",
       "      <th>0</th>\n",
       "      <td>0</td>\n",
       "      <td>U+304A</td>\n",
       "      <td>お</td>\n",
       "    </tr>\n",
       "    <tr>\n",
       "      <th>1</th>\n",
       "      <td>1</td>\n",
       "      <td>U+304D</td>\n",
       "      <td>き</td>\n",
       "    </tr>\n",
       "    <tr>\n",
       "      <th>2</th>\n",
       "      <td>2</td>\n",
       "      <td>U+3059</td>\n",
       "      <td>す</td>\n",
       "    </tr>\n",
       "    <tr>\n",
       "      <th>3</th>\n",
       "      <td>3</td>\n",
       "      <td>U+3064</td>\n",
       "      <td>つ</td>\n",
       "    </tr>\n",
       "    <tr>\n",
       "      <th>4</th>\n",
       "      <td>4</td>\n",
       "      <td>U+306A</td>\n",
       "      <td>な</td>\n",
       "    </tr>\n",
       "    <tr>\n",
       "      <th>5</th>\n",
       "      <td>5</td>\n",
       "      <td>U+306F</td>\n",
       "      <td>は</td>\n",
       "    </tr>\n",
       "    <tr>\n",
       "      <th>6</th>\n",
       "      <td>6</td>\n",
       "      <td>U+307E</td>\n",
       "      <td>ま</td>\n",
       "    </tr>\n",
       "    <tr>\n",
       "      <th>7</th>\n",
       "      <td>7</td>\n",
       "      <td>U+3084</td>\n",
       "      <td>や</td>\n",
       "    </tr>\n",
       "    <tr>\n",
       "      <th>8</th>\n",
       "      <td>8</td>\n",
       "      <td>U+308C</td>\n",
       "      <td>れ</td>\n",
       "    </tr>\n",
       "    <tr>\n",
       "      <th>9</th>\n",
       "      <td>9</td>\n",
       "      <td>U+3092</td>\n",
       "      <td>を</td>\n",
       "    </tr>\n",
       "  </tbody>\n",
       "</table>\n",
       "</div>"
      ],
      "text/plain": [
       "   index codepoint char\n",
       "0      0    U+304A    お\n",
       "1      1    U+304D    き\n",
       "2      2    U+3059    す\n",
       "3      3    U+3064    つ\n",
       "4      4    U+306A    な\n",
       "5      5    U+306F    は\n",
       "6      6    U+307E    ま\n",
       "7      7    U+3084    や\n",
       "8      8    U+308C    れ\n",
       "9      9    U+3092    を"
      ]
     },
     "execution_count": 5,
     "metadata": {},
     "output_type": "execute_result"
    }
   ],
   "source": [
    "classes"
   ]
  },
  {
   "cell_type": "code",
   "execution_count": 6,
   "metadata": {},
   "outputs": [],
   "source": [
    "X_train = np.load('kmnist-train-imgs.npz')['arr_0']\n",
    "y_train = np.load('kmnist-train-labels.npz')['arr_0']\n",
    "\n",
    "X_test = np.load('kmnist-test-imgs.npz')['arr_0']\n",
    "y_test = np.load('kmnist-test-labels.npz')['arr_0']"
   ]
  },
  {
   "cell_type": "code",
   "execution_count": 7,
   "metadata": {},
   "outputs": [
    {
     "name": "stdout",
     "output_type": "stream",
     "text": [
      "(60000, 28, 28)\n",
      "(10000, 28, 28)\n"
     ]
    }
   ],
   "source": [
    "# 訓練データは6万画像、各28x28の1チャンネル（グレースケール）で準備されている\n",
    "print(X_train.shape)\n",
    "print(X_test.shape)"
   ]
  },
  {
   "cell_type": "code",
   "execution_count": 8,
   "metadata": {},
   "outputs": [
    {
     "name": "stdout",
     "output_type": "stream",
     "text": [
      "[8 7 0 1 4]\n",
      "   index codepoint char\n",
      "0      0    U+304A    お\n",
      "1      1    U+304D    き\n",
      "2      2    U+3059    す\n",
      "3      3    U+3064    つ\n",
      "4      4    U+306A    な\n",
      "5      5    U+306F    は\n",
      "6      6    U+307E    ま\n",
      "7      7    U+3084    や\n",
      "8      8    U+308C    れ\n",
      "9      9    U+3092    を\n"
     ]
    }
   ],
   "source": [
    "# ここの8は「れ」を意味する\n",
    "print(y_train[0:5])\n",
    "print(classes)"
   ]
  },
  {
   "cell_type": "code",
   "execution_count": 9,
   "metadata": {},
   "outputs": [
    {
     "data": {
      "text/plain": [
       "{0: 'お',\n",
       " 1: 'き',\n",
       " 2: 'す',\n",
       " 3: 'つ',\n",
       " 4: 'な',\n",
       " 5: 'は',\n",
       " 6: 'ま',\n",
       " 7: 'や',\n",
       " 8: 'れ',\n",
       " 9: 'を'}"
      ]
     },
     "execution_count": 9,
     "metadata": {},
     "output_type": "execute_result"
    }
   ],
   "source": [
    "# わかりやすいようにindexをつける\n",
    "labelindex = classes.set_index('index').to_dict()['char']\n",
    "labelindex"
   ]
  },
  {
   "cell_type": "code",
   "execution_count": 10,
   "metadata": {},
   "outputs": [
    {
     "name": "stdout",
     "output_type": "stream",
     "text": [
      "0\n",
      "255\n"
     ]
    }
   ],
   "source": [
    "# 以下により最小値0、最大値255ということで256階調を示していることを確認\n",
    "print(X_train.min())\n",
    "print(X_train.max())"
   ]
  },
  {
   "cell_type": "code",
   "execution_count": 11,
   "metadata": {},
   "outputs": [
    {
     "data": {
      "image/png": "[encoded data removed]",
      "text/plain": [
       "<Figure size 432x288 with 1 Axes>"
      ]
     },
     "metadata": {
      "needs_background": "light"
     },
     "output_type": "display_data"
    }
   ],
   "source": [
    "plt.imshow(X_train[423], cmap=plt.cm.gray)\n",
    "plt.show()"
   ]
  },
  {
   "cell_type": "code",
   "execution_count": 12,
   "metadata": {},
   "outputs": [
    {
     "name": "stdout",
     "output_type": "stream",
     "text": [
      "1\n",
      "き\n"
     ]
    }
   ],
   "source": [
    "# trainデータを可視化。423のデータを確認してみる\n",
    "print(y_train[423])\n",
    "print(labelindex[1])"
   ]
  },
  {
   "cell_type": "markdown",
   "metadata": {},
   "source": [
    "## データ前処理"
   ]
  },
  {
   "cell_type": "code",
   "execution_count": 13,
   "metadata": {},
   "outputs": [
    {
     "data": {
      "text/plain": [
       "array([[  0,   0, 133,  91,   7],\n",
       "       [  0,   0, 128, 128,  20],\n",
       "       [  0,   0,  95, 224,  20],\n",
       "       [  0,   0, 112, 159,  64],\n",
       "       [  0,   1, 211, 234, 253]], dtype=uint8)"
      ]
     },
     "execution_count": 13,
     "metadata": {},
     "output_type": "execute_result"
    }
   ],
   "source": [
    "X_train[0,10:15, 10:15]"
   ]
  },
  {
   "cell_type": "code",
   "execution_count": 14,
   "metadata": {},
   "outputs": [
    {
     "data": {
      "text/plain": [
       "(60000, 28, 28)"
      ]
     },
     "execution_count": 14,
     "metadata": {},
     "output_type": "execute_result"
    }
   ],
   "source": [
    "X_train.shape"
   ]
  },
  {
   "cell_type": "code",
   "execution_count": 15,
   "metadata": {},
   "outputs": [
    {
     "data": {
      "text/plain": [
       "array([[  0,   0, 133,  91,   7],\n",
       "       [  0,   0, 128, 128,  20],\n",
       "       [  0,   0,  95, 224,  20],\n",
       "       [  0,   0, 112, 159,  64],\n",
       "       [  0,   1, 211, 234, 253]], dtype=uint8)"
      ]
     },
     "execution_count": 15,
     "metadata": {},
     "output_type": "execute_result"
    }
   ],
   "source": [
    "# データの一部確認\n",
    "X_train[0, 10:15, 10:15]"
   ]
  },
  {
   "cell_type": "code",
   "execution_count": 16,
   "metadata": {},
   "outputs": [
    {
     "data": {
      "image/png": "[encoded data removed]",
      "text/plain": [
       "<Figure size 432x288 with 1 Axes>"
      ]
     },
     "metadata": {
      "needs_background": "light"
     },
     "output_type": "display_data"
    }
   ],
   "source": [
    "plt.imshow(X_train[0, 10:15, 10:15], cmap=plt.cm.gray)\n",
    "plt.show()"
   ]
  },
  {
   "cell_type": "code",
   "execution_count": 17,
   "metadata": {},
   "outputs": [],
   "source": [
    "# 訓練/テストデータの正規化(0から1の間に変換する)\n",
    "X_train = X_train/255\n",
    "X_test = X_test/255"
   ]
  },
  {
   "cell_type": "code",
   "execution_count": 18,
   "metadata": {},
   "outputs": [
    {
     "data": {
      "text/plain": [
       "array([[0.        , 0.        , 0.52156863, 0.35686275, 0.02745098],\n",
       "       [0.        , 0.        , 0.50196078, 0.50196078, 0.07843137],\n",
       "       [0.        , 0.        , 0.37254902, 0.87843137, 0.07843137],\n",
       "       [0.        , 0.        , 0.43921569, 0.62352941, 0.25098039],\n",
       "       [0.        , 0.00392157, 0.82745098, 0.91764706, 0.99215686]])"
      ]
     },
     "execution_count": 18,
     "metadata": {},
     "output_type": "execute_result"
    }
   ],
   "source": [
    "# データの再確認\n",
    "X_train[0, 10:15, 10:15]"
   ]
  },
  {
   "cell_type": "code",
   "execution_count": 19,
   "metadata": {},
   "outputs": [
    {
     "name": "stdout",
     "output_type": "stream",
     "text": [
      "(60000, 28, 28)\n",
      "(10000, 28, 28)\n"
     ]
    }
   ],
   "source": [
    "# 現在のデータの再確認\n",
    "print(X_train.shape)\n",
    "print(X_test.shape)"
   ]
  },
  {
   "cell_type": "code",
   "execution_count": 20,
   "metadata": {},
   "outputs": [],
   "source": [
    "# 28x28のデータを並列化する\n",
    "X_train = X_train.reshape(X_train.shape[0], 784)\n",
    "X_test = X_test.reshape(X_test.shape[0], 784)\n"
   ]
  },
  {
   "cell_type": "code",
   "execution_count": 21,
   "metadata": {},
   "outputs": [
    {
     "name": "stdout",
     "output_type": "stream",
     "text": [
      "(60000, 784)\n",
      "(10000, 784)\n"
     ]
    }
   ],
   "source": [
    "# 並列化されたデータの確認\n",
    "print(X_train.shape)\n",
    "print(X_test.shape)"
   ]
  },
  {
   "cell_type": "markdown",
   "metadata": {},
   "source": [
    "## LightGBMのハイパーパラメータ"
   ]
  },
  {
   "cell_type": "code",
   "execution_count": 22,
   "metadata": {},
   "outputs": [
    {
     "data": {
      "text/plain": [
       "LGBMClassifier(boosting_type='gbdt', class_weight=None, colsample_bytree=1.0,\n",
       "               importance_type='split', learning_rate=0.1, max_depth=-1,\n",
       "               min_child_samples=20, min_child_weight=0.001, min_split_gain=0.0,\n",
       "               n_estimators=100, n_jobs=-1, num_leaves=31, objective=None,\n",
       "               random_state=None, reg_alpha=0.0, reg_lambda=0.0, silent=True,\n",
       "               subsample=1.0, subsample_for_bin=200000, subsample_freq=0)"
      ]
     },
     "execution_count": 22,
     "metadata": {},
     "output_type": "execute_result"
    }
   ],
   "source": [
    "lgb.LGBMClassifier()"
   ]
  },
  {
   "cell_type": "markdown",
   "metadata": {},
   "source": [
    "### num_leaves \n",
    "LightGBMで最も重要と言っても過言ではないのがnum_leaves(葉の数)です。num_leavesは決定木の複雑度を調整します。num_leavesの値が高すぎると過学習となり、低すぎると未学習になります。num_leavesを調整する場合はmax_depth（決定木の深さ）のパラメータと一緒に調整すると良いです。\n",
    "\n",
    "### min_data_in_leaf \n",
    "Leaf-wiseを採用しているLightGBMではmin_data_in_leafはとても重要なハイパーパラメータです。min_data_in_leafは決定木のノード（葉）の最小データ数を指定します。値が高いと決定木が深く育つのを抑えるため過学習防ぎますが、逆に未学習となる場合もあります。min_data_in_leafは訓練データのレコード数とnum_leavesに大きく影響されます。\n",
    "\n",
    "### max_depth \n",
    "決定木の深さを指定するハイパーパラメータです。単体で調整するよりも、他のハイパーパラメータとのバランスを考えながら調整します。"
   ]
  },
  {
   "cell_type": "markdown",
   "metadata": {},
   "source": [
    "## LightGBMモデル訓練"
   ]
  },
  {
   "cell_type": "code",
   "execution_count": 23,
   "metadata": {},
   "outputs": [],
   "source": [
    "# 訓練・テストデータの設定\n",
    "train_data = lgb.Dataset(X_train, label=y_train)\n",
    "eval_data = lgb.Dataset(X_test, label=y_test, reference=train_data)"
   ]
  },
  {
   "cell_type": "code",
   "execution_count": 24,
   "metadata": {},
   "outputs": [],
   "source": [
    "# 目的変数は10種類なのでnum_classは10\n",
    "\n",
    "params = {\n",
    "    'task': 'train',\n",
    "    'boosting_type': 'gbdt',\n",
    "    'objective': 'multiclass',\n",
    "    'num_class': 10,\n",
    "    'verbose': 2, \n",
    "}"
   ]
  },
  {
   "cell_type": "code",
   "execution_count": 25,
   "metadata": {},
   "outputs": [
    {
     "name": "stdout",
     "output_type": "stream",
     "text": [
      "[5]\tvalid_0's multi_logloss: 1.71401\n",
      "[10]\tvalid_0's multi_logloss: 1.43197\n",
      "[15]\tvalid_0's multi_logloss: 1.2474\n",
      "[20]\tvalid_0's multi_logloss: 1.11132\n",
      "[25]\tvalid_0's multi_logloss: 1.00722\n",
      "[30]\tvalid_0's multi_logloss: 0.924201\n",
      "[35]\tvalid_0's multi_logloss: 0.856528\n",
      "[40]\tvalid_0's multi_logloss: 0.799088\n",
      "[45]\tvalid_0's multi_logloss: 0.751136\n",
      "[50]\tvalid_0's multi_logloss: 0.711042\n",
      "[55]\tvalid_0's multi_logloss: 0.675216\n",
      "[60]\tvalid_0's multi_logloss: 0.645093\n",
      "[65]\tvalid_0's multi_logloss: 0.617719\n",
      "[70]\tvalid_0's multi_logloss: 0.594623\n",
      "[75]\tvalid_0's multi_logloss: 0.573648\n",
      "[80]\tvalid_0's multi_logloss: 0.5548\n",
      "[85]\tvalid_0's multi_logloss: 0.537461\n",
      "[90]\tvalid_0's multi_logloss: 0.52171\n",
      "[95]\tvalid_0's multi_logloss: 0.508122\n",
      "[100]\tvalid_0's multi_logloss: 0.49569\n"
     ]
    },
    {
     "data": {
      "text/plain": [
       "datetime.timedelta(seconds=132, microseconds=997938)"
      ]
     },
     "execution_count": 25,
     "metadata": {},
     "output_type": "execute_result"
    }
   ],
   "source": [
    "# モデル訓練\n",
    "start = datetime.now() \n",
    "gbm = lgb.train(\n",
    "    params,\n",
    "    train_data,\n",
    "    valid_sets=eval_data,\n",
    "    num_boost_round=100,\n",
    "    verbose_eval=5)\n",
    "stop = datetime.now()\n",
    "execution_time_lgb = stop-start \n",
    "execution_time_lgb"
   ]
  },
  {
   "cell_type": "code",
   "execution_count": 26,
   "metadata": {},
   "outputs": [
    {
     "name": "stdout",
     "output_type": "stream",
     "text": [
      "(10000, 784)\n",
      "(10000, 10)\n"
     ]
    }
   ],
   "source": [
    "# テストデータで予測\n",
    "preds = gbm.predict(X_test)\n",
    "print(X_test.shape)\n",
    "print(preds.shape)"
   ]
  },
  {
   "cell_type": "code",
   "execution_count": 27,
   "metadata": {},
   "outputs": [],
   "source": [
    "# argmax 配列内の最大値のインデックスを返す\n",
    "y_pred = []\n",
    "\n",
    "for x in preds:\n",
    "    y_pred.append(np.argmax(x))\n"
   ]
  },
  {
   "cell_type": "code",
   "execution_count": 28,
   "metadata": {},
   "outputs": [
    {
     "data": {
      "text/plain": [
       "2"
      ]
     },
     "execution_count": 28,
     "metadata": {},
     "output_type": "execute_result"
    }
   ],
   "source": [
    "test = [11, 12, 13]\n",
    "np.argmax(test)"
   ]
  },
  {
   "cell_type": "code",
   "execution_count": 29,
   "metadata": {},
   "outputs": [
    {
     "data": {
      "text/plain": [
       "array([[872,   3,   2,   4,  31,  16,   3,  34,  31,   4],\n",
       "       [  2, 840,  34,   4,  24,   5,  49,   6,  15,  21],\n",
       "       [  6,  22, 826,  48,  17,   7,  27,  14,  21,  12],\n",
       "       [  2,  13,  31, 917,   8,   4,   6,   7,   3,   9],\n",
       "       [ 35,  22,  24,  13, 834,   8,  23,   9,  18,  14],\n",
       "       [  7,  25, 101,   7,  16, 802,  26,   2,  12,   2],\n",
       "       [  2,  18,  52,   4,  19,   5, 885,   9,   3,   3],\n",
       "       [  9,  21,  12,   5,  73,   2,  34, 787,  37,  20],\n",
       "       [  5,  34,  10,  32,   2,   7,  21,   1, 883,   5],\n",
       "       [  5,  21,  30,   7,  34,   3,  12,  26,  25, 837]], dtype=int64)"
      ]
     },
     "execution_count": 29,
     "metadata": {},
     "output_type": "execute_result"
    }
   ],
   "source": [
    "# 実際の結果と、予測結果の混同行列(confusionmatrix)\n",
    "confusion_matrix(y_test, y_pred)\n"
   ]
  },
  {
   "cell_type": "code",
   "execution_count": 30,
   "metadata": {},
   "outputs": [
    {
     "data": {
      "text/plain": [
       "0.8483"
      ]
     },
     "execution_count": 30,
     "metadata": {},
     "output_type": "execute_result"
    }
   ],
   "source": [
    "# 正解率\n",
    "accuracy_score(y_test, y_pred)"
   ]
  },
  {
   "cell_type": "markdown",
   "metadata": {},
   "source": [
    "# XGBoost"
   ]
  },
  {
   "cell_type": "code",
   "execution_count": 31,
   "metadata": {},
   "outputs": [],
   "source": [
    "import pandas as pd\n",
    "import numpy as np\n",
    "\n",
    "import matplotlib.pyplot as plt\n",
    "%matplotlib inline\n",
    "\n",
    "# XGBoost\n",
    "import xgboost as xgb\n",
    "\n",
    "# sciket-learn(評価算出)\n",
    "from sklearn.metrics import confusion_matrix\n",
    "from sklearn.metrics import accuracy_score"
   ]
  },
  {
   "cell_type": "code",
   "execution_count": 32,
   "metadata": {},
   "outputs": [
    {
     "data": {
      "text/plain": [
       "XGBClassifier(base_score=None, booster=None, colsample_bylevel=None,\n",
       "              colsample_bynode=None, colsample_bytree=None, gamma=None,\n",
       "              gpu_id=None, importance_type='gain', interaction_constraints=None,\n",
       "              learning_rate=None, max_delta_step=None, max_depth=None,\n",
       "              min_child_weight=None, missing=nan, monotone_constraints=None,\n",
       "              n_estimators=100, n_jobs=None, num_parallel_tree=None,\n",
       "              objective='binary:logistic', random_state=None, reg_alpha=None,\n",
       "              reg_lambda=None, scale_pos_weight=None, subsample=None,\n",
       "              tree_method=None, validate_parameters=None, verbosity=None)"
      ]
     },
     "execution_count": 32,
     "metadata": {},
     "output_type": "execute_result"
    }
   ],
   "source": [
    "xgb.XGBClassifier()"
   ]
  },
  {
   "cell_type": "markdown",
   "metadata": {},
   "source": [
    "## XGBoostモデル訓練"
   ]
  },
  {
   "cell_type": "code",
   "execution_count": 33,
   "metadata": {},
   "outputs": [],
   "source": [
    "# 訓練・テストデータの設定\n",
    "dtrain = xgb.DMatrix(X_train, label=y_train)\n",
    "dtest = xgb.DMatrix(X_test, label=y_test)"
   ]
  },
  {
   "cell_type": "code",
   "execution_count": 34,
   "metadata": {},
   "outputs": [],
   "source": [
    "# 目的変数は10種類なのでnum_classは10\n",
    "# params = {\n",
    "#     'task': 'train',\n",
    "#     'boosting_type': 'gbdt',\n",
    "#     'objective': 'multiclass',\n",
    "#     'num_class': 10,\n",
    "#     'verboose': 2, \n",
    "# }\n",
    "\n",
    "param = {\n",
    "    'task': 'train',\n",
    "    'max_depth': 2,\n",
    "    'eta': 1,\n",
    "    'objective': 'multi:softmax',\n",
    "    'num_class': 10,\n",
    "    'eval_metric': 'mlogloss',\n",
    "}\n",
    "\n",
    "evallist = [(dtrain, 'train'), (dtest, 'eval')]\n",
    "\n",
    "num_round = 100"
   ]
  },
  {
   "cell_type": "code",
   "execution_count": 35,
   "metadata": {},
   "outputs": [
    {
     "name": "stdout",
     "output_type": "stream",
     "text": [
      "[13:20:09] WARNING: C:\\Users\\Administrator\\workspace\\xgboost-win64_release_1.1.0\\src\\learner.cc:480: \n",
      "Parameters: { task } might not be used.\n",
      "\n",
      "  This may not be accurate due to some parameters are only used in language bindings but\n",
      "  passed down to XGBoost core.  Or some parameters are not used but slip through this\n",
      "  verification. Please open an issue if you find above cases.\n",
      "\n",
      "\n",
      "[0]\ttrain-mlogloss:1.66842\teval-mlogloss:1.97040\n",
      "[5]\ttrain-mlogloss:0.95622\teval-mlogloss:1.46300\n",
      "[10]\ttrain-mlogloss:0.73035\teval-mlogloss:1.24014\n",
      "[15]\ttrain-mlogloss:0.61554\teval-mlogloss:1.11168\n",
      "[20]\ttrain-mlogloss:0.53136\teval-mlogloss:1.01464\n",
      "[25]\ttrain-mlogloss:0.47622\teval-mlogloss:0.95142\n",
      "[30]\ttrain-mlogloss:0.43378\teval-mlogloss:0.90850\n",
      "[35]\ttrain-mlogloss:0.40175\teval-mlogloss:0.87231\n",
      "[40]\ttrain-mlogloss:0.37231\teval-mlogloss:0.83420\n",
      "[45]\ttrain-mlogloss:0.34756\teval-mlogloss:0.80412\n",
      "[50]\ttrain-mlogloss:0.32545\teval-mlogloss:0.77704\n",
      "[55]\ttrain-mlogloss:0.30699\teval-mlogloss:0.75870\n",
      "[60]\ttrain-mlogloss:0.28986\teval-mlogloss:0.74346\n",
      "[65]\ttrain-mlogloss:0.27518\teval-mlogloss:0.73084\n",
      "[70]\ttrain-mlogloss:0.25974\teval-mlogloss:0.71447\n",
      "[75]\ttrain-mlogloss:0.24672\teval-mlogloss:0.70095\n",
      "[80]\ttrain-mlogloss:0.23571\teval-mlogloss:0.68752\n",
      "[85]\ttrain-mlogloss:0.22440\teval-mlogloss:0.67640\n",
      "[90]\ttrain-mlogloss:0.21382\teval-mlogloss:0.66555\n",
      "[95]\ttrain-mlogloss:0.20414\teval-mlogloss:0.65544\n",
      "[99]\ttrain-mlogloss:0.19720\teval-mlogloss:0.65159\n"
     ]
    },
    {
     "data": {
      "text/plain": [
       "datetime.timedelta(seconds=237, microseconds=895119)"
      ]
     },
     "execution_count": 35,
     "metadata": {},
     "output_type": "execute_result"
    }
   ],
   "source": [
    "# モデル訓練\n",
    "# gbm = lgb.train(\n",
    "#     params,\n",
    "#     train_data,\n",
    "#     valid_sets=eval_data,\n",
    "#     num_boost_round=10,\n",
    "#     verbose_eval=5)\n",
    "start = datetime.now()\n",
    "bst = xgb.train(\n",
    "    param, \n",
    "    dtrain, \n",
    "    num_round,\n",
    "    evallist,\n",
    "    verbose_eval=5,\n",
    ")\n",
    "stop = datetime.now()\n",
    "execution_time_xgb = stop-start \n",
    "execution_time_xgb"
   ]
  },
  {
   "cell_type": "code",
   "execution_count": 36,
   "metadata": {},
   "outputs": [
    {
     "name": "stdout",
     "output_type": "stream",
     "text": [
      "(10000,)\n"
     ]
    }
   ],
   "source": [
    "# テストデータで予測\n",
    "d_test = xgb.DMatrix(data=X_test)\n",
    "preds = bst.predict(d_test)\n",
    "print(preds.shape)"
   ]
  },
  {
   "cell_type": "code",
   "execution_count": 37,
   "metadata": {},
   "outputs": [
    {
     "data": {
      "text/plain": [
       "array([2., 6., 3., ..., 9., 2., 2.], dtype=float32)"
      ]
     },
     "execution_count": 37,
     "metadata": {},
     "output_type": "execute_result"
    }
   ],
   "source": [
    "preds"
   ]
  },
  {
   "cell_type": "code",
   "execution_count": 38,
   "metadata": {},
   "outputs": [
    {
     "name": "stdout",
     "output_type": "stream",
     "text": [
      "answer:2 す\n",
      "predict:2.0 す\n"
     ]
    },
    {
     "data": {
      "image/png": "[encoded data removed]",
      "text/plain": [
       "<Figure size 432x288 with 1 Axes>"
      ]
     },
     "metadata": {
      "needs_background": "light"
     },
     "output_type": "display_data"
    },
    {
     "name": "stdout",
     "output_type": "stream",
     "text": [
      "answer:9 を\n",
      "predict:6.0 ま\n"
     ]
    },
    {
     "data": {
      "image/png": "[encoded data removed]",
      "text/plain": [
       "<Figure size 432x288 with 1 Axes>"
      ]
     },
     "metadata": {
      "needs_background": "light"
     },
     "output_type": "display_data"
    },
    {
     "name": "stdout",
     "output_type": "stream",
     "text": [
      "answer:3 つ\n",
      "predict:3.0 つ\n"
     ]
    },
    {
     "data": {
      "image/png": "[encoded data removed]",
      "text/plain": [
       "<Figure size 432x288 with 1 Axes>"
      ]
     },
     "metadata": {
      "needs_background": "light"
     },
     "output_type": "display_data"
    },
    {
     "name": "stdout",
     "output_type": "stream",
     "text": [
      "answer:8 れ\n",
      "predict:1.0 き\n"
     ]
    },
    {
     "data": {
      "image/png": "[encoded data removed]",
      "text/plain": [
       "<Figure size 432x288 with 1 Axes>"
      ]
     },
     "metadata": {
      "needs_background": "light"
     },
     "output_type": "display_data"
    },
    {
     "name": "stdout",
     "output_type": "stream",
     "text": [
      "answer:3 つ\n",
      "predict:3.0 つ\n"
     ]
    },
    {
     "data": {
      "image/png": "[encoded data removed]",
      "text/plain": [
       "<Figure size 432x288 with 1 Axes>"
      ]
     },
     "metadata": {
      "needs_background": "light"
     },
     "output_type": "display_data"
    }
   ],
   "source": [
    "# trainデータを可視化。423のデータを確認してみる\n",
    "for v in list(range(5)):\n",
    "    print('answer:{} {}'.format(y_test[v], labelindex[y_test[v]]))\n",
    "    print('predict:{} {}'.format(preds[v], labelindex[preds[v]]))\n",
    "    plt.imshow(X_test[v].reshape(28, 28), cmap=plt.cm.gray)\n",
    "    plt.show()\n",
    "    "
   ]
  },
  {
   "cell_type": "code",
   "execution_count": 39,
   "metadata": {},
   "outputs": [
    {
     "data": {
      "text/plain": [
       "(10000,)"
      ]
     },
     "execution_count": 39,
     "metadata": {},
     "output_type": "execute_result"
    }
   ],
   "source": [
    "y_test.shape"
   ]
  },
  {
   "cell_type": "code",
   "execution_count": 40,
   "metadata": {},
   "outputs": [
    {
     "data": {
      "text/plain": [
       "array([[828,   5,   5,   8,  30,  37,   4,  38,  32,  13],\n",
       "       [  2, 800,  44,   5,  27,  10,  53,   7,  21,  31],\n",
       "       [  6,  32, 756,  56,  25,  13,  35,  14,  37,  26],\n",
       "       [  2,  18,  44, 881,   8,  11,  11,   6,   9,  10],\n",
       "       [ 43,  31,  39,  16, 749,   9,  40,  18,  27,  28],\n",
       "       [  7,  27,  78,  16,  12, 800,  24,   4,  26,   6],\n",
       "       [  6,  32,  85,  10,  22,  13, 807,   6,  11,   8],\n",
       "       [ 18,  14,  23,   7,  56,   6,  46, 751,  50,  29],\n",
       "       [ 10,  39,  26,  47,   2,  12,  25,   5, 830,   4],\n",
       "       [  8,  35,  53,   7,  45,   5,  20,  25,  30, 772]], dtype=int64)"
      ]
     },
     "execution_count": 40,
     "metadata": {},
     "output_type": "execute_result"
    }
   ],
   "source": [
    "# 実際の結果と、予測結果の混同行列(confusionmatrix)\n",
    "confusion_matrix(y_test, preds)"
   ]
  },
  {
   "cell_type": "code",
   "execution_count": 41,
   "metadata": {},
   "outputs": [
    {
     "data": {
      "text/plain": [
       "0.7974"
      ]
     },
     "execution_count": 41,
     "metadata": {},
     "output_type": "execute_result"
    }
   ],
   "source": [
    "# 正解率\n",
    "accuracy_score(y_test, preds)"
   ]
  },
  {
   "cell_type": "code",
   "execution_count": null,
   "metadata": {},
   "outputs": [],
   "source": []
  }
 ],
 "metadata": {
  "kernelspec": {
   "display_name": "Python 3",
   "language": "python",
   "name": "python3"
  },
  "language_info": {
   "codemirror_mode": {
    "name": "ipython",
    "version": 3
   },
   "file_extension": ".py",
   "mimetype": "text/x-python",
   "name": "python",
   "nbconvert_exporter": "python",
   "pygments_lexer": "ipython3",
   "version": "3.7.6"
  }
 },
 "nbformat": 4,
 "nbformat_minor": 4
}
